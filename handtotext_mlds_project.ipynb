{
  "cells": [
    {
      "cell_type": "code",
      "execution_count": null,
      "metadata": {
        "colab": {
          "base_uri": "https://localhost:8080/"
        },
        "id": "lN6MT1oOheG4",
        "outputId": "44e2592e-2816-4702-bc2d-465360665067"
      },
      "outputs": [
        {
          "output_type": "stream",
          "name": "stdout",
          "text": [
            "Mounted at /content/drive\n"
          ]
        }
      ],
      "source": [
        "from google.colab import drive\n",
        "drive.mount('/content/drive') #making drive storage available for colab file system"
      ]
    },
    {
      "cell_type": "code",
      "source": [
        "import zipfile #to extract the zip file\n",
        "import os #to access folders and file within the extracted file"
      ],
      "metadata": {
        "id": "8l3nb4QFEqRh"
      },
      "execution_count": null,
      "outputs": []
    },
    {
      "cell_type": "code",
      "source": [
        "zip_file = zipfile.ZipFile('/content/drive/MyDrive/hwc.zip', 'r')   # returns the zip file handler\n",
        "zip_file.extractall('/tmp') #extracting it into the tmp (temporary storage) folder\n",
        "zip_file.close()"
      ],
      "metadata": {
        "id": "0TZDSi8dE5w-"
      },
      "execution_count": null,
      "outputs": []
    },
    {
      "cell_type": "code",
      "source": [
        "len(os.listdir('/tmp/hwc/Train')) #lists all the files and folders under the entered path"
      ],
      "metadata": {
        "id": "GbOYacIEHITJ",
        "colab": {
          "base_uri": "https://localhost:8080/"
        },
        "outputId": "42624ba8-cc2a-49b1-9980-69413d777017"
      },
      "execution_count": null,
      "outputs": [
        {
          "output_type": "execute_result",
          "data": {
            "text/plain": [
              "26"
            ]
          },
          "metadata": {},
          "execution_count": 36
        }
      ]
    },
    {
      "cell_type": "code",
      "source": [
        "import numpy as np #to group images into array of images\n",
        "import matplotlib.pyplot as plt # to display the image\n",
        "import tensorflow as tf #machine learning library focused on neural networks, using it for computer vision task using cnn\n",
        "import cv2 #newer version of open cv, computer vision, machine learning and image processing library, used for getting dimension and rgb values of images\n",
        "from tensorflow.keras.preprocessing.image import ImageDataGenerator #to input the dataset, to generate labels for images, here to take the folder name as label\n",
        "from tensorflow.keras.preprocessing import image #to load the image\n",
        "from tensorflow.keras.optimizers import SGD #optimization function synonymous to rms in binary, it calculates the loss"
      ],
      "metadata": {
        "id": "ZL6sF3zHPBbd"
      },
      "execution_count": null,
      "outputs": []
    },
    {
      "cell_type": "code",
      "source": [
        "img = image.load_img('/tmp/hwc/Train/O/_1_3.jpg') #loading the image"
      ],
      "metadata": {
        "id": "iCGXdZZ7_uSz"
      },
      "execution_count": null,
      "outputs": []
    },
    {
      "cell_type": "code",
      "source": [
        "plt.imshow(img) #plotting the image"
      ],
      "metadata": {
        "colab": {
          "base_uri": "https://localhost:8080/",
          "height": 283
        },
        "id": "OW94HbCwCRce",
        "outputId": "0d107ab4-6756-4703-8eb7-656bdb084649"
      },
      "execution_count": null,
      "outputs": [
        {
          "output_type": "execute_result",
          "data": {
            "text/plain": [
              "<matplotlib.image.AxesImage at 0x7fd11a98d8d0>"
            ]
          },
          "metadata": {},
          "execution_count": 7
        },
        {
          "output_type": "display_data",
          "data": {
            "text/plain": [
              "<Figure size 432x288 with 1 Axes>"
            ],
            "image/png": "[encoded data removed]"
          },
          "metadata": {
            "needs_background": "light"
          }
        }
      ]
    },
    {
      "cell_type": "code",
      "source": [
        "cv2.imread('/tmp/hwc/Train/O/_1_3.jpg').shape # gives (height, width, no.of colours(3 for rgb))"
      ],
      "metadata": {
        "colab": {
          "base_uri": "https://localhost:8080/"
        },
        "id": "CLz3LuFEDhOu",
        "outputId": "ae53f40a-404e-43e9-a5fd-65a7dafbe483"
      },
      "execution_count": null,
      "outputs": [
        {
          "output_type": "execute_result",
          "data": {
            "text/plain": [
              "(32, 32, 3)"
            ]
          },
          "metadata": {},
          "execution_count": 8
        }
      ]
    },
    {
      "cell_type": "code",
      "source": [
        "cv2.imread('/tmp/hwc/Train/O/_1_157.jpg') # the rgb values vary from 0 to 2"
      ],
      "metadata": {
        "id": "uz0JKExBL6nR",
        "colab": {
          "base_uri": "https://localhost:8080/"
        },
        "outputId": "9327c986-4ba1-4882-f398-b839cbe7dd1e"
      },
      "execution_count": null,
      "outputs": [
        {
          "output_type": "execute_result",
          "data": {
            "text/plain": [
              "array([[[2, 2, 2],\n",
              "        [0, 0, 0],\n",
              "        [0, 0, 0],\n",
              "        ...,\n",
              "        [0, 0, 0],\n",
              "        [0, 0, 0],\n",
              "        [0, 0, 0]],\n",
              "\n",
              "       [[0, 0, 0],\n",
              "        [0, 0, 0],\n",
              "        [0, 0, 0],\n",
              "        ...,\n",
              "        [0, 0, 0],\n",
              "        [0, 0, 0],\n",
              "        [0, 0, 0]],\n",
              "\n",
              "       [[0, 0, 0],\n",
              "        [0, 0, 0],\n",
              "        [1, 1, 1],\n",
              "        ...,\n",
              "        [0, 0, 0],\n",
              "        [0, 0, 0],\n",
              "        [0, 0, 0]],\n",
              "\n",
              "       ...,\n",
              "\n",
              "       [[1, 1, 1],\n",
              "        [0, 0, 0],\n",
              "        [0, 0, 0],\n",
              "        ...,\n",
              "        [0, 0, 0],\n",
              "        [0, 0, 0],\n",
              "        [0, 0, 0]],\n",
              "\n",
              "       [[0, 0, 0],\n",
              "        [2, 2, 2],\n",
              "        [0, 0, 0],\n",
              "        ...,\n",
              "        [0, 0, 0],\n",
              "        [0, 0, 0],\n",
              "        [0, 0, 0]],\n",
              "\n",
              "       [[0, 0, 0],\n",
              "        [0, 0, 0],\n",
              "        [0, 0, 0],\n",
              "        ...,\n",
              "        [0, 0, 0],\n",
              "        [0, 0, 0],\n",
              "        [0, 0, 0]]], dtype=uint8)"
            ]
          },
          "metadata": {},
          "execution_count": 9
        }
      ]
    },
    {
      "cell_type": "code",
      "source": [
        "train = ImageDataGenerator(rescale = 1/2) # making the rgb values to be between 0 to 1 to make calculation simple and easy\n",
        "test = ImageDataGenerator(rescale = 1/2)"
      ],
      "metadata": {
        "id": "iBPeCPOoEXab"
      },
      "execution_count": null,
      "outputs": []
    },
    {
      "cell_type": "code",
      "source": [
        "train_dataset = train.flow_from_directory('/tmp/hwc/Train', target_size = (32,32), class_mode = 'categorical', batch_size = 32)  #loading the train directory\n",
        "test_dataset = test.flow_from_directory('/tmp/hwc/Validation', target_size = (32,32), class_mode = 'categorical', batch_size = 20)\n",
        "#resizing the images to a fixed pixel size, 'categorical as number of labels are >2, batch mode is number of images to be trained in single iteration, epoch is number of times the model is trained\n",
        "#number of batches in each epoch"
      ],
      "metadata": {
        "colab": {
          "base_uri": "https://localhost:8080/"
        },
        "id": "4D86ms16NSCU",
        "outputId": "dadfaa86-baad-4399-dfa9-bca35fdcbe5d"
      },
      "execution_count": null,
      "outputs": [
        {
          "output_type": "stream",
          "name": "stdout",
          "text": [
            "Found 26472 images belonging to 26 classes.\n",
            "Found 7019 images belonging to 26 classes.\n"
          ]
        }
      ]
    },
    {
      "cell_type": "code",
      "source": [
        "train_dataset.class_indices # gives labels and their indices"
      ],
      "metadata": {
        "id": "waIPh2I2TPJT",
        "colab": {
          "base_uri": "https://localhost:8080/"
        },
        "outputId": "f3ab4c9f-8ff4-4d8a-f1ba-620bb98814bb"
      },
      "execution_count": null,
      "outputs": [
        {
          "output_type": "execute_result",
          "data": {
            "text/plain": [
              "{'A': 0,\n",
              " 'B': 1,\n",
              " 'C': 2,\n",
              " 'D': 3,\n",
              " 'E': 4,\n",
              " 'F': 5,\n",
              " 'G': 6,\n",
              " 'H': 7,\n",
              " 'I': 8,\n",
              " 'J': 9,\n",
              " 'K': 10,\n",
              " 'L': 11,\n",
              " 'M': 12,\n",
              " 'N': 13,\n",
              " 'O': 14,\n",
              " 'P': 15,\n",
              " 'Q': 16,\n",
              " 'R': 17,\n",
              " 'S': 18,\n",
              " 'T': 19,\n",
              " 'U': 20,\n",
              " 'V': 21,\n",
              " 'W': 22,\n",
              " 'X': 23,\n",
              " 'Y': 24,\n",
              " 'Z': 25}"
            ]
          },
          "metadata": {},
          "execution_count": 12
        }
      ]
    },
    {
      "cell_type": "code",
      "source": [
        "cnn_model = tf.keras.models.Sequential([tf.keras.layers.Conv2D(16, (3,3), activation = 'relu', input_shape = (32,32,3)),\n",
        "                                        tf.keras.layers.MaxPool2D(2,2), #it is a down sampling operation which reduces dimensionality of feature map using a filter(max pooling)\n",
        "                                        tf.keras.layers.Conv2D(32, (3,3), activation = 'relu'),\n",
        "                                        tf.keras.layers.MaxPool2D(2,2),\n",
        "                                        tf.keras.layers.Conv2D(64, (3,3), activation = 'relu'),\n",
        "                                        tf.keras.layers.MaxPool2D(2,2),\n",
        "                                        tf.keras.layers.Flatten(), #converting pooled feature map into single long continous linear vector\n",
        "                                        tf.keras.layers.Dense(512, activation = 'relu'), #it is a fully connected layer:,it classify the image based on flattened matrix, comes under output layer\n",
        "                                        tf.keras.layers.Dense(26, activation = 'softmax')]) #26 - number of labels\n",
        "#keras is neural network interface for tensorflow\n",
        "#sequentials is plain stack of layers\n",
        "#relu(rectified linear units) is a binary activation function which returns 0 for negative input and the number itself for positive input\n",
        "#softmax is a extension of sigmoid function where it is used for categorical data\n",
        "#apply a filter matrix over the image matrix and compute its dot product to detect patterns and get convolved feature as output ,the filter reduces the larger image matrix into smaller convolved matrix\n",
        "#giving all the layers required as argument\n",
        "#As you apply pooling, your data gets smaller and you can afford to have more channels\n",
        "#deeper the layer gets the complexity of the\n",
        "#repeating the layers to increase the number of channels (depth of convolutional matrices in cnn network)\n",
        "#conv2D(number of layers, kernel size(height and width of filter matrix - any odd number), activation, input shape) and max pooling layer"
      ],
      "metadata": {
        "id": "VWCyiPMRTcn3"
      },
      "execution_count": null,
      "outputs": []
    },
    {
      "cell_type": "code",
      "source": [
        "cnn_model.compile(loss = 'categorical_crossentropy', optimizer = SGD(learning_rate=0.001, momentum=0.9), metrics = ['accuracy'])\n",
        " #compile the model, loss function, optimizer function, metrics (what to be evaluated)\n",
        " #default loss for categorical data\n",
        " #lr is learning rate and momentum which is given using stochastic gradient descent"
      ],
      "metadata": {
        "id": "IUxfH-uPdCdn"
      },
      "execution_count": null,
      "outputs": []
    },
    {
      "cell_type": "code",
      "source": [
        "model_fit = cnn_model.fit(train_dataset,\n",
        "                          steps_per_epoch = 825, #total images/batch size, 825 to train entire dataset\n",
        "                          epochs = 50, #change epochs to check if you can get better accuracy, it is number of cycles ,50 to train entire dataset\n",
        "                          validation_data = test_dataset)\n",
        "#trains the model epoch number of times and evaluate the model"
      ],
      "metadata": {
        "id": "4AIkUcqChjNG",
        "colab": {
          "base_uri": "https://localhost:8080/"
        },
        "outputId": "c4db7fce-e1c3-43ac-d660-c17a4db27b77"
      },
      "execution_count": null,
      "outputs": [
        {
          "output_type": "stream",
          "name": "stdout",
          "text": [
            "Epoch 1/50\n",
            "825/825 [==============================] - 35s 41ms/step - loss: 1.4394 - accuracy: 0.5855 - val_loss: 0.7371 - val_accuracy: 0.7762\n",
            "Epoch 2/50\n",
            "825/825 [==============================] - 35s 43ms/step - loss: 0.4565 - accuracy: 0.8563 - val_loss: 0.5408 - val_accuracy: 0.8384\n",
            "Epoch 3/50\n",
            "825/825 [==============================] - 32s 39ms/step - loss: 0.3315 - accuracy: 0.8934 - val_loss: 0.4653 - val_accuracy: 0.8600\n",
            "Epoch 4/50\n",
            "825/825 [==============================] - 34s 41ms/step - loss: 0.2697 - accuracy: 0.9106 - val_loss: 0.4418 - val_accuracy: 0.8628\n",
            "Epoch 5/50\n",
            "825/825 [==============================] - 35s 42ms/step - loss: 0.2228 - accuracy: 0.9249 - val_loss: 0.4271 - val_accuracy: 0.8694\n",
            "Epoch 6/50\n",
            "825/825 [==============================] - 37s 45ms/step - loss: 0.1948 - accuracy: 0.9334 - val_loss: 0.4852 - val_accuracy: 0.8628\n",
            "Epoch 7/50\n",
            "825/825 [==============================] - 34s 41ms/step - loss: 0.1723 - accuracy: 0.9380 - val_loss: 0.4311 - val_accuracy: 0.8741\n",
            "Epoch 8/50\n",
            "825/825 [==============================] - 36s 44ms/step - loss: 0.1545 - accuracy: 0.9436 - val_loss: 0.4351 - val_accuracy: 0.8702\n",
            "Epoch 9/50\n",
            "825/825 [==============================] - 36s 43ms/step - loss: 0.1388 - accuracy: 0.9493 - val_loss: 0.4182 - val_accuracy: 0.8816\n",
            "Epoch 10/50\n",
            "825/825 [==============================] - 34s 41ms/step - loss: 0.1202 - accuracy: 0.9557 - val_loss: 0.4970 - val_accuracy: 0.8733\n",
            "Epoch 11/50\n",
            "825/825 [==============================] - 35s 42ms/step - loss: 0.1087 - accuracy: 0.9592 - val_loss: 0.4606 - val_accuracy: 0.8847\n",
            "Epoch 12/50\n",
            "825/825 [==============================] - 37s 45ms/step - loss: 0.0966 - accuracy: 0.9629 - val_loss: 0.5376 - val_accuracy: 0.8775\n",
            "Epoch 13/50\n",
            "825/825 [==============================] - 34s 41ms/step - loss: 0.0874 - accuracy: 0.9666 - val_loss: 0.4873 - val_accuracy: 0.8729\n",
            "Epoch 14/50\n",
            "825/825 [==============================] - 36s 43ms/step - loss: 0.0823 - accuracy: 0.9681 - val_loss: 0.5081 - val_accuracy: 0.8799\n",
            "Epoch 15/50\n",
            "825/825 [==============================] - 34s 41ms/step - loss: 0.0750 - accuracy: 0.9709 - val_loss: 0.5013 - val_accuracy: 0.8857\n",
            "Epoch 16/50\n",
            "825/825 [==============================] - 35s 42ms/step - loss: 0.0686 - accuracy: 0.9727 - val_loss: 0.4814 - val_accuracy: 0.8899\n",
            "Epoch 17/50\n",
            "825/825 [==============================] - 36s 44ms/step - loss: 0.0668 - accuracy: 0.9734 - val_loss: 0.5448 - val_accuracy: 0.8839\n",
            "Epoch 18/50\n",
            "825/825 [==============================] - 35s 43ms/step - loss: 0.0544 - accuracy: 0.9785 - val_loss: 0.5687 - val_accuracy: 0.8857\n",
            "Epoch 19/50\n",
            "825/825 [==============================] - 33s 40ms/step - loss: 0.0519 - accuracy: 0.9791 - val_loss: 0.6040 - val_accuracy: 0.8792\n",
            "Epoch 20/50\n",
            "825/825 [==============================] - 36s 43ms/step - loss: 0.0496 - accuracy: 0.9803 - val_loss: 0.6407 - val_accuracy: 0.8796\n",
            "Epoch 21/50\n",
            "825/825 [==============================] - 36s 43ms/step - loss: 0.0565 - accuracy: 0.9784 - val_loss: 0.6091 - val_accuracy: 0.8806\n",
            "Epoch 22/50\n",
            "825/825 [==============================] - 34s 41ms/step - loss: 0.0435 - accuracy: 0.9838 - val_loss: 0.6405 - val_accuracy: 0.8786\n",
            "Epoch 23/50\n",
            "825/825 [==============================] - 44s 53ms/step - loss: 0.0397 - accuracy: 0.9839 - val_loss: 0.6966 - val_accuracy: 0.8795\n",
            "Epoch 24/50\n",
            "825/825 [==============================] - 33s 40ms/step - loss: 0.0412 - accuracy: 0.9840 - val_loss: 0.6355 - val_accuracy: 0.8836\n",
            "Epoch 25/50\n",
            "825/825 [==============================] - 35s 43ms/step - loss: 0.0378 - accuracy: 0.9845 - val_loss: 0.6614 - val_accuracy: 0.8823\n",
            "Epoch 26/50\n",
            "825/825 [==============================] - 34s 42ms/step - loss: 0.0486 - accuracy: 0.9813 - val_loss: 0.7323 - val_accuracy: 0.8698\n",
            "Epoch 27/50\n",
            "825/825 [==============================] - 35s 43ms/step - loss: 0.0434 - accuracy: 0.9831 - val_loss: 0.6997 - val_accuracy: 0.8856\n",
            "Epoch 28/50\n",
            "825/825 [==============================] - 36s 43ms/step - loss: 0.0329 - accuracy: 0.9862 - val_loss: 0.7418 - val_accuracy: 0.8815\n",
            "Epoch 29/50\n",
            "825/825 [==============================] - 35s 42ms/step - loss: 0.0264 - accuracy: 0.9896 - val_loss: 0.7404 - val_accuracy: 0.8839\n",
            "Epoch 30/50\n",
            "825/825 [==============================] - 34s 41ms/step - loss: 0.0279 - accuracy: 0.9896 - val_loss: 0.7577 - val_accuracy: 0.8793\n",
            "Epoch 31/50\n",
            "825/825 [==============================] - 36s 44ms/step - loss: 0.0409 - accuracy: 0.9845 - val_loss: 0.7269 - val_accuracy: 0.8907\n",
            "Epoch 32/50\n",
            "825/825 [==============================] - 34s 41ms/step - loss: 0.0466 - accuracy: 0.9830 - val_loss: 0.8623 - val_accuracy: 0.8645\n",
            "Epoch 33/50\n",
            "825/825 [==============================] - 34s 41ms/step - loss: 0.0439 - accuracy: 0.9841 - val_loss: 0.7282 - val_accuracy: 0.8853\n",
            "Epoch 34/50\n",
            "825/825 [==============================] - 35s 43ms/step - loss: 0.0335 - accuracy: 0.9868 - val_loss: 0.7847 - val_accuracy: 0.8820\n",
            "Epoch 35/50\n",
            "825/825 [==============================] - 35s 43ms/step - loss: 0.0352 - accuracy: 0.9870 - val_loss: 0.7947 - val_accuracy: 0.8817\n",
            "Epoch 36/50\n",
            "825/825 [==============================] - 35s 42ms/step - loss: 0.0290 - accuracy: 0.9886 - val_loss: 0.7634 - val_accuracy: 0.8733\n",
            "Epoch 37/50\n",
            "825/825 [==============================] - 35s 43ms/step - loss: 0.0290 - accuracy: 0.9893 - val_loss: 0.7307 - val_accuracy: 0.8778\n",
            "Epoch 38/50\n",
            "825/825 [==============================] - 33s 40ms/step - loss: 0.0209 - accuracy: 0.9923 - val_loss: 0.7806 - val_accuracy: 0.8896\n",
            "Epoch 39/50\n",
            "825/825 [==============================] - 33s 40ms/step - loss: 0.0126 - accuracy: 0.9950 - val_loss: 0.8158 - val_accuracy: 0.8927\n",
            "Epoch 40/50\n",
            "825/825 [==============================] - 35s 43ms/step - loss: 0.0180 - accuracy: 0.9937 - val_loss: 0.8498 - val_accuracy: 0.8829\n",
            "Epoch 41/50\n",
            "825/825 [==============================] - 36s 44ms/step - loss: 0.0160 - accuracy: 0.9941 - val_loss: 0.8794 - val_accuracy: 0.8836\n",
            "Epoch 42/50\n",
            "825/825 [==============================] - 33s 40ms/step - loss: 0.0198 - accuracy: 0.9934 - val_loss: 0.9661 - val_accuracy: 0.8659\n",
            "Epoch 43/50\n",
            "825/825 [==============================] - 35s 43ms/step - loss: 0.0331 - accuracy: 0.9881 - val_loss: 0.9188 - val_accuracy: 0.8679\n",
            "Epoch 44/50\n",
            "825/825 [==============================] - 34s 41ms/step - loss: 0.0350 - accuracy: 0.9877 - val_loss: 0.8522 - val_accuracy: 0.8827\n",
            "Epoch 45/50\n",
            "825/825 [==============================] - 35s 43ms/step - loss: 0.0324 - accuracy: 0.9876 - val_loss: 0.8867 - val_accuracy: 0.8732\n",
            "Epoch 46/50\n",
            "825/825 [==============================] - 35s 43ms/step - loss: 0.0551 - accuracy: 0.9807 - val_loss: 0.8606 - val_accuracy: 0.8705\n",
            "Epoch 47/50\n",
            "825/825 [==============================] - 35s 43ms/step - loss: 0.0300 - accuracy: 0.9900 - val_loss: 0.9647 - val_accuracy: 0.8800\n",
            "Epoch 48/50\n",
            "825/825 [==============================] - 36s 44ms/step - loss: 0.0275 - accuracy: 0.9909 - val_loss: 0.9146 - val_accuracy: 0.8819\n",
            "Epoch 49/50\n",
            "825/825 [==============================] - 34s 42ms/step - loss: 0.0213 - accuracy: 0.9918 - val_loss: 0.8887 - val_accuracy: 0.8856\n",
            "Epoch 50/50\n",
            "825/825 [==============================] - 34s 41ms/step - loss: 0.0214 - accuracy: 0.9922 - val_loss: 0.8985 - val_accuracy: 0.8792\n"
          ]
        }
      ]
    },
    {
      "cell_type": "code",
      "source": [
        "predict_directory = '/tmp/hwc/Test'  #test data set path\n",
        "for i in os.listdir(predict_directory):\n",
        "  img = image.load_img(predict_directory+'//'+i, target_size = (32,32,3))\n",
        "  plt.imshow(img)\n",
        "  plt.show()\n",
        "  image_array = image.img_to_array(img) #converts image to numpy array\n",
        "  image_array = np.expand_dims(image_array, axis = 0) #expand the dimension of the array and insert a new axis for the array\n",
        "  array_of_images = np.vstack([image_array]) #it stack all the arrays of images into one single vertical array\n",
        "  value = cnn_model.predict(array_of_images)  #predict the output\n",
        "  d = train_dataset.class_indices\n",
        "  for i in d:\n",
        "    if d[i] == np.argmax(value[0]): #argmax gives index of maximum value of that array\n",
        "      print('The predicted output is',i, '\\n\\n')\n",
        "\n"
      ],
      "metadata": {
        "id": "vRu5tp9ZlHtx",
        "colab": {
          "base_uri": "https://localhost:8080/",
          "height": 1000
        },
        "outputId": "42a915d4-7596-4e4a-e111-7517a0a0e1b1"
      },
      "execution_count": null,
      "outputs": [
        {
          "output_type": "display_data",
          "data": {
            "text/plain": [
              "<Figure size 432x288 with 1 Axes>"
            ],
            "image/png": "[encoded data removed]"
          },
          "metadata": {
            "needs_background": "light"
          }
        },
        {
          "output_type": "stream",
          "name": "stdout",
          "text": [
            "1/1 [==============================] - 0s 19ms/step\n",
            "The predicted output is A \n",
            "\n",
            "\n"
          ]
        },
        {
          "output_type": "display_data",
          "data": {
            "text/plain": [
              "<Figure size 432x288 with 1 Axes>"
            ],
            "image/png": "[encoded data removed]"
          },
          "metadata": {
            "needs_background": "light"
          }
        },
        {
          "output_type": "stream",
          "name": "stdout",
          "text": [
            "1/1 [==============================] - 0s 21ms/step\n",
            "The predicted output is Y \n",
            "\n",
            "\n"
          ]
        },
        {
          "output_type": "display_data",
          "data": {
            "text/plain": [
              "<Figure size 432x288 with 1 Axes>"
            ],
            "image/png": "[encoded data removed]"
          },
          "metadata": {
            "needs_background": "light"
          }
        },
        {
          "output_type": "stream",
          "name": "stdout",
          "text": [
            "1/1 [==============================] - 0s 22ms/step\n",
            "The predicted output is P \n",
            "\n",
            "\n"
          ]
        },
        {
          "output_type": "display_data",
          "data": {
            "text/plain": [
              "<Figure size 432x288 with 1 Axes>"
            ],
            "image/png": "[encoded data removed]"
          },
          "metadata": {
            "needs_background": "light"
          }
        },
        {
          "output_type": "stream",
          "name": "stdout",
          "text": [
            "1/1 [==============================] - 0s 29ms/step\n",
            "The predicted output is A \n",
            "\n",
            "\n"
          ]
        },
        {
          "output_type": "display_data",
          "data": {
            "text/plain": [
              "<Figure size 432x288 with 1 Axes>"
            ],
            "image/png": "[encoded data removed]"
          },
          "metadata": {
            "needs_background": "light"
          }
        },
        {
          "output_type": "stream",
          "name": "stdout",
          "text": [
            "1/1 [==============================] - 0s 18ms/step\n",
            "The predicted output is M \n",
            "\n",
            "\n"
          ]
        }
      ]
    }
  ],
  "metadata": {
    "colab": {
      "provenance": []
    },
    "kernelspec": {
      "display_name": "Python 3",
      "name": "python3"
    },
    "language_info": {
      "name": "python"
    }
  },
  "nbformat": 4,
  "nbformat_minor": 0
}